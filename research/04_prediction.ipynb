{
 "cells": [
  {
   "cell_type": "code",
   "execution_count": 1,
   "id": "5d9b9e89",
   "metadata": {},
   "outputs": [
    {
     "name": "stderr",
     "output_type": "stream",
     "text": [
      "/DATA/pranta_2411ai09/dialogue_summ/lib/python3.10/site-packages/tqdm/auto.py:21: TqdmWarning: IProgress not found. Please update jupyter and ipywidgets. See https://ipywidgets.readthedocs.io/en/stable/user_install.html\n",
      "  from .autonotebook import tqdm as notebook_tqdm\n"
     ]
    }
   ],
   "source": [
    "data_path = '/DATA/pranta_2411ai09/DialogueSummarization/data/samsum_dataset'\n",
    "from datasets import load_from_disk\n",
    "dataset_samsum = load_from_disk(data_path)"
   ]
  },
  {
   "cell_type": "code",
   "execution_count": 3,
   "id": "e6a45d78",
   "metadata": {},
   "outputs": [
    {
     "name": "stdout",
     "output_type": "stream",
     "text": [
      "Original Dialogue:\n",
      "Deirdre: Hi Beth, how are you love?\n",
      "Beth: Hi Auntie Deirdre, I'm been meaning to message you, had a favour to ask.\n",
      "Deirdre: Wondered if you had any thought about your Mum's 40th, we've got to do something special!\n",
      "Beth: How about a girls weekend, just mum, me, you and the girls, Kira will have to come back from Uni, of course.\n",
      "Deirdre: Sounds fab! Get your thinking cap on, it's only in 6 weeks! Bet she's dreading it, I remember doing that!\n",
      "Beth: Oh yeah, we had a surprise party for you, you nearly had a heart attack! \n",
      "Deirdre: Well, it was a lovely surprise! Gosh, thats nearly 4 years ago now, time flies! What was the favour, darling?\n",
      "Beth: Oh, it was just that I fancied trying a bit of work experience in the salon, auntie.\n",
      "Deirdre: Well, I am looking for Saturday girls, are you sure about it? you could do well in the exams and go on to college or 6th form.\n",
      "Beth: I know, but it's not for me, auntie, I am doing all foundation papers and I'm struggling with those.\n",
      "Deirdre: What about a tutor? Kira could help you in the hols.\n",
      "Beth: Maybe, but I'd like to try working. I'm 16 soon, I'm old enough.\n",
      "Deirdre: I know. Look, pop in tomorrow after school and we'll have a cuppa and a chat.\n",
      "Beth: Yes, thanks auntie. I'd really like to try the beauty therapy side.\n",
      "Deirdre: Its not for the squeamish, mind. Massage, pedicures, not to mention waxing!\n",
      "Beth: Oh yes, I was chatting to a friend about it yesterday!\n",
      "Deirdre: Maxine manages the beauty side, you can meet her tomorrow and we'll see how it goes.\n",
      "Beth: Yes, I'd really like that. \n",
      "Deirdre: We can try a few hours on a Saturday for a couple of weeks as work experience. I'll give you a tenner or so per session to start off for your lunch, coffee and bus fare etc. If you like, we'll take it from there.\n",
      "Beth: OK, I like the sound of it! See you tomorrow Auntie! Love you!\n",
      "Deirdre: Bye, lovely girl! Xx\n"
     ]
    }
   ],
   "source": [
    "# Pick one sample from the test set\n",
    "sample = dataset_samsum['test'][20]\n",
    "\n",
    "# Print the original dialogue\n",
    "print('Original Dialogue:')\n",
    "print(sample['dialogue'])"
   ]
  },
  {
   "cell_type": "code",
   "execution_count": 5,
   "id": "888066d0",
   "metadata": {},
   "outputs": [],
   "source": [
    "# LOAD THE TRAINED MODEL FOR EVALUATION\n",
    "from transformers import AutoModelForSeq2SeqLM, AutoTokenizer\n",
    "model = AutoModelForSeq2SeqLM.from_pretrained('./pegasus-samsum')\n",
    "tokenizer = AutoTokenizer.from_pretrained('./pegasus-samsum')"
   ]
  },
  {
   "cell_type": "code",
   "execution_count": 6,
   "id": "c0f74aa5",
   "metadata": {},
   "outputs": [
    {
     "name": "stdout",
     "output_type": "stream",
     "text": [
      "\n",
      "Generated Summary:\n",
      "Deirdre and Beth are planning a girls weekend for Beth's mum's 40th birthday in 6 weeks. Beth wants to try a bit of work experience in the salon. Deirdre will give Beth a tenner per session to start off for her lunch, coffee and bus fare etc.\n",
      "\n",
      "Reference Summary:\n",
      "Beth wants to organize a girls weekend to celebrate her mother's 40th birthday. She also wants to work at Deidre's beauty salon. Deidre offers her a few hours on Saturdays as work experience. They set up for a meeting tomorrow.\n"
     ]
    }
   ],
   "source": [
    "# Generate summary using the model\n",
    "inputs = tokenizer(sample['dialogue'], return_tensors='pt', truncation=True, max_length=1024)\n",
    "\n",
    "summary_ids = model.generate(\n",
    "    inputs['input_ids'],\n",
    "    attention_mask=inputs['attention_mask'],\n",
    "    num_beams=4,\n",
    "    length_penalty=1.0,\n",
    "    max_length=128,\n",
    "    min_length=30,\n",
    "    early_stopping=True\n",
    ")\n",
    "generated_summary = tokenizer.decode(summary_ids[0], skip_special_tokens=True)\n",
    "\n",
    "# Print the generated summary\n",
    "print('\\nGenerated Summary:')\n",
    "print(generated_summary)\n",
    "\n",
    "# Print the reference summary\n",
    "print('\\nReference Summary:')\n",
    "print(sample['summary'])"
   ]
  },
  {
   "cell_type": "code",
   "execution_count": null,
   "id": "180c693d",
   "metadata": {},
   "outputs": [],
   "source": []
  }
 ],
 "metadata": {
  "kernelspec": {
   "display_name": "Python 3",
   "language": "python",
   "name": "python3"
  },
  "language_info": {
   "codemirror_mode": {
    "name": "ipython",
    "version": 3
   },
   "file_extension": ".py",
   "mimetype": "text/x-python",
   "name": "python",
   "nbconvert_exporter": "python",
   "pygments_lexer": "ipython3",
   "version": "3.10.18"
  }
 },
 "nbformat": 4,
 "nbformat_minor": 5
}
