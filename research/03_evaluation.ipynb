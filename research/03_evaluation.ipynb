{
 "cells": [
  {
   "cell_type": "markdown",
   "id": "e30c40ec",
   "metadata": {},
   "source": [
    "#### Evaluation"
   ]
  },
  {
   "cell_type": "code",
   "execution_count": 2,
   "id": "e933ff76",
   "metadata": {},
   "outputs": [
    {
     "name": "stderr",
     "output_type": "stream",
     "text": [
      "/DATA/pranta_2411ai09/dialogue_summ/lib/python3.10/site-packages/tqdm/auto.py:21: TqdmWarning: IProgress not found. Please update jupyter and ipywidgets. See https://ipywidgets.readthedocs.io/en/stable/user_install.html\n",
      "  from .autonotebook import tqdm as notebook_tqdm\n"
     ]
    }
   ],
   "source": [
    "from datasets import load_dataset, load_metric\n",
    "import pandas as pd"
   ]
  },
  {
   "cell_type": "code",
   "execution_count": 3,
   "id": "7275a307",
   "metadata": {},
   "outputs": [],
   "source": [
    "data_path = '/DATA/pranta_2411ai09/DialogueSummarization/data/samsum_dataset'\n",
    "from datasets import load_from_disk\n",
    "dataset_samsum = load_from_disk(data_path)"
   ]
  },
  {
   "cell_type": "code",
   "execution_count": 4,
   "id": "70e663ef",
   "metadata": {},
   "outputs": [
    {
     "data": {
      "text/plain": [
       "DatasetDict({\n",
       "    train: Dataset({\n",
       "        features: ['id', 'dialogue', 'summary'],\n",
       "        num_rows: 14732\n",
       "    })\n",
       "    test: Dataset({\n",
       "        features: ['id', 'dialogue', 'summary'],\n",
       "        num_rows: 819\n",
       "    })\n",
       "    validation: Dataset({\n",
       "        features: ['id', 'dialogue', 'summary'],\n",
       "        num_rows: 818\n",
       "    })\n",
       "})"
      ]
     },
     "execution_count": 4,
     "metadata": {},
     "output_type": "execute_result"
    }
   ],
   "source": [
    "dataset_samsum"
   ]
  },
  {
   "cell_type": "code",
   "execution_count": 5,
   "id": "fd7f8f62",
   "metadata": {},
   "outputs": [],
   "source": [
    "# LOAD THE TRAINED MODEL FOR EVALUATION\n",
    "from transformers import AutoModelForSeq2SeqLM, AutoTokenizer\n",
    "model = AutoModelForSeq2SeqLM.from_pretrained('./pegasus-samsum')\n",
    "tokenizer = AutoTokenizer.from_pretrained('./pegasus-samsum')"
   ]
  },
  {
   "cell_type": "code",
   "execution_count": null,
   "id": "9437ccd4",
   "metadata": {},
   "outputs": [],
   "source": [
    "import torch\n",
    "\n",
    "batch_size = 8\n",
    "test_dataset = dataset_samsum['test']\n",
    "num_samples = len(test_dataset)\n",
    "generated_summaries = []\n",
    "reference_summaries = []\n",
    "\n",
    "for start_idx in range(0, num_samples, batch_size):\n",
    "    end_idx = min(start_idx + batch_size, num_samples)\n",
    "    batch_dialogues = test_dataset[start_idx:end_idx]['dialogue']\n",
    "    inputs = tokenizer(batch_dialogues, return_tensors='pt', truncation=True, padding=True, max_length=1024)\n",
    "    inputs = {k: v.to(model.device) for k, v in inputs.items()}\n",
    "    summary_ids = model.generate(\n",
    "        inputs['input_ids'],\n",
    "        attention_mask=inputs['attention_mask'],\n",
    "        num_beams=4,\n",
    "        length_penalty=1.4,\n",
    "        max_length=100,\n",
    "        min_length=25,\n",
    "        early_stopping=True\n",
    "    )\n",
    "    batch_summaries = tokenizer.batch_decode(summary_ids, skip_special_tokens=True)\n",
    "    generated_summaries.extend(batch_summaries)\n",
    "    reference_summaries.extend(test_dataset[start_idx:end_idx]['summary'])\n"
   ]
  },
  {
   "cell_type": "code",
   "execution_count": 1,
   "id": "49d20f06",
   "metadata": {},
   "outputs": [
    {
     "ename": "NameError",
     "evalue": "name 'load_metric' is not defined",
     "output_type": "error",
     "traceback": [
      "\u001b[0;31m---------------------------------------------------------------------------\u001b[0m",
      "\u001b[0;31mNameError\u001b[0m                                 Traceback (most recent call last)",
      "Cell \u001b[0;32mIn[1], line 2\u001b[0m\n\u001b[1;32m      1\u001b[0m \u001b[38;5;66;03m# Compute ROUGE scores\u001b[39;00m\n\u001b[0;32m----> 2\u001b[0m rouge \u001b[38;5;241m=\u001b[39m \u001b[43mload_metric\u001b[49m(\u001b[38;5;124m'\u001b[39m\u001b[38;5;124mrouge\u001b[39m\u001b[38;5;124m'\u001b[39m)\n\u001b[1;32m      3\u001b[0m results \u001b[38;5;241m=\u001b[39m rouge\u001b[38;5;241m.\u001b[39mcompute(predictions\u001b[38;5;241m=\u001b[39mgenerated_summaries, references\u001b[38;5;241m=\u001b[39mreference_summaries)\n\u001b[1;32m      5\u001b[0m \u001b[38;5;66;03m# Extract F1 scores for each ROUGE metric\u001b[39;00m\n",
      "\u001b[0;31mNameError\u001b[0m: name 'load_metric' is not defined"
     ]
    }
   ],
   "source": [
    "# Compute ROUGE scores\n",
    "rouge = load_metric('rouge')\n",
    "results = rouge.compute(predictions=generated_summaries, references=reference_summaries)\n",
    "\n",
    "# Extract F1 scores for each ROUGE metric\n",
    "rouge_names = ['rouge1', 'rouge2', 'rougeL', 'rougeLsum']\n",
    "rouge_dict = {rn: results[rn].mid.fmeasure for rn in rouge_names}\n",
    "\n",
    "# Display as DataFrame\n",
    "pd.DataFrame(rouge_dict, index=['pegasus'])\n"
   ]
  },
  {
   "cell_type": "code",
   "execution_count": null,
   "id": "a69e4e03",
   "metadata": {},
   "outputs": [],
   "source": []
  }
 ],
 "metadata": {
  "kernelspec": {
   "display_name": "Python 3",
   "language": "python",
   "name": "python3"
  },
  "language_info": {
   "codemirror_mode": {
    "name": "ipython",
    "version": 3
   },
   "file_extension": ".py",
   "mimetype": "text/x-python",
   "name": "python",
   "nbconvert_exporter": "python",
   "pygments_lexer": "ipython3",
   "version": "3.10.18"
  }
 },
 "nbformat": 4,
 "nbformat_minor": 5
}
